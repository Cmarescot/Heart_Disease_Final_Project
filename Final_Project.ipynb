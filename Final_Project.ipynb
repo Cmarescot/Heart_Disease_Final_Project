{
 "cells": [
  {
   "cell_type": "code",
   "execution_count": 2,
   "id": "5829d512",
   "metadata": {},
   "outputs": [],
   "source": [
    "import requests\n"
   ]
  },
  {
   "cell_type": "code",
   "execution_count": null,
   "id": "2dfb0e7e",
   "metadata": {},
   "outputs": [],
   "source": [
    "data = requests.get(\"api.census.gov/data/2018/acs/flows?\")\n",
    "data.json()"
   ]
  },
  {
   "cell_type": "code",
   "execution_count": null,
   "id": "27949e0a",
   "metadata": {},
   "outputs": [],
   "source": [
    "# Triangle\n"
   ]
  },
  {
   "cell_type": "code",
   "execution_count": null,
   "id": "53566f6a",
   "metadata": {},
   "outputs": [],
   "source": [
    "# Circle "
   ]
  },
  {
   "cell_type": "code",
   "execution_count": null,
   "id": "e6a26bb1",
   "metadata": {},
   "outputs": [],
   "source": []
  },
  {
   "cell_type": "code",
   "execution_count": null,
   "id": "d906da57",
   "metadata": {},
   "outputs": [],
   "source": []
  }
 ],
 "metadata": {
  "kernelspec": {
   "display_name": "mlenv",
   "language": "python",
   "name": "mlenv"
  },
  "language_info": {
   "codemirror_mode": {
    "name": "ipython",
    "version": 3
   },
   "file_extension": ".py",
   "mimetype": "text/x-python",
   "name": "python",
   "nbconvert_exporter": "python",
   "pygments_lexer": "ipython3",
   "version": "3.8.5"
  }
 },
 "nbformat": 4,
 "nbformat_minor": 5
}
